{
  "nbformat": 4,
  "nbformat_minor": 0,
  "metadata": {
    "colab": {
      "provenance": [],
      "gpuType": "T4",
      "authorship_tag": "ABX9TyPnlJOVkaSmlr5KJrdwNbkz",
      "include_colab_link": true
    },
    "kernelspec": {
      "name": "python3",
      "display_name": "Python 3"
    },
    "language_info": {
      "name": "python"
    },
    "accelerator": "GPU"
  },
  "cells": [
    {
      "cell_type": "markdown",
      "metadata": {
        "id": "view-in-github",
        "colab_type": "text"
      },
      "source": [
        "<a href=\"https://colab.research.google.com/github/ItoroKoffi/Pytorch-Deep-Learning/blob/main/Pytorch_Fundamentals.ipynb\" target=\"_parent\"><img src=\"https://colab.research.google.com/assets/colab-badge.svg\" alt=\"Open In Colab\"/></a>"
      ]
    },
    {
      "cell_type": "code",
      "execution_count": 99,
      "metadata": {
        "colab": {
          "base_uri": "https://localhost:8080/"
        },
        "id": "v7yxbGVdb1Bt",
        "outputId": "8665fae0-7c08-4f5f-bb60-9c4f5ab90e8d"
      },
      "outputs": [
        {
          "output_type": "stream",
          "name": "stdout",
          "text": [
            "Sun Aug 17 20:55:58 2025       \n",
            "+-----------------------------------------------------------------------------------------+\n",
            "| NVIDIA-SMI 550.54.15              Driver Version: 550.54.15      CUDA Version: 12.4     |\n",
            "|-----------------------------------------+------------------------+----------------------+\n",
            "| GPU  Name                 Persistence-M | Bus-Id          Disp.A | Volatile Uncorr. ECC |\n",
            "| Fan  Temp   Perf          Pwr:Usage/Cap |           Memory-Usage | GPU-Util  Compute M. |\n",
            "|                                         |                        |               MIG M. |\n",
            "|=========================================+========================+======================|\n",
            "|   0  Tesla T4                       Off |   00000000:00:04.0 Off |                    0 |\n",
            "| N/A   42C    P8              9W /   70W |       0MiB /  15360MiB |      0%      Default |\n",
            "|                                         |                        |                  N/A |\n",
            "+-----------------------------------------+------------------------+----------------------+\n",
            "                                                                                         \n",
            "+-----------------------------------------------------------------------------------------+\n",
            "| Processes:                                                                              |\n",
            "|  GPU   GI   CI        PID   Type   Process name                              GPU Memory |\n",
            "|        ID   ID                                                               Usage      |\n",
            "|=========================================================================================|\n",
            "|  No running processes found                                                             |\n",
            "+-----------------------------------------------------------------------------------------+\n"
          ]
        }
      ],
      "source": [
        "#check GPU\n",
        "!nvidia-smi"
      ]
    },
    {
      "cell_type": "code",
      "source": [
        "#import required libraries\n",
        "import torch\n",
        "import pandas as pd\n",
        "import numpy as np\n",
        "import matplotlib.pyplot as plt\n",
        "print(torch.__version__) # checks pytorch version\n"
      ],
      "metadata": {
        "colab": {
          "base_uri": "https://localhost:8080/"
        },
        "id": "Tz_lNMJvdC46",
        "outputId": "b42b8f3f-5b75-4236-aa7b-607ee7d0e469"
      },
      "execution_count": 100,
      "outputs": [
        {
          "output_type": "stream",
          "name": "stdout",
          "text": [
            "2.6.0+cu124\n"
          ]
        }
      ]
    },
    {
      "cell_type": "markdown",
      "source": [
        "##Introduction to Tensors\n",
        "\n",
        "###Creating tensors\n",
        "\n",
        "Pytorch tensors are created using `torch.Tensor()` = https://pytorch.org/docs/stable/tensors.html"
      ],
      "metadata": {
        "id": "68o9HJVbc8dU"
      }
    },
    {
      "cell_type": "code",
      "source": [
        "#scalar\n",
        "scalar=torch.tensor(7)\n",
        "scalar"
      ],
      "metadata": {
        "colab": {
          "base_uri": "https://localhost:8080/"
        },
        "id": "CmSGmS09hhIv",
        "outputId": "f121b39b-c055-407a-fb26-66de566c6621"
      },
      "execution_count": 101,
      "outputs": [
        {
          "output_type": "execute_result",
          "data": {
            "text/plain": [
              "tensor(7)"
            ]
          },
          "metadata": {},
          "execution_count": 101
        }
      ]
    },
    {
      "cell_type": "code",
      "source": [
        "scalar.ndim # check dimensions"
      ],
      "metadata": {
        "colab": {
          "base_uri": "https://localhost:8080/"
        },
        "id": "3Hd5rdtRjruc",
        "outputId": "92750715-33ea-4ef8-d1ba-4c9a7209afe3"
      },
      "execution_count": 102,
      "outputs": [
        {
          "output_type": "execute_result",
          "data": {
            "text/plain": [
              "0"
            ]
          },
          "metadata": {},
          "execution_count": 102
        }
      ]
    },
    {
      "cell_type": "code",
      "source": [
        "#Vector\n",
        "vector=torch.tensor([7,7])\n",
        "vector"
      ],
      "metadata": {
        "colab": {
          "base_uri": "https://localhost:8080/"
        },
        "id": "TOOpz8Qrjxgm",
        "outputId": "af1c9b74-4cbd-4c88-93e3-44226b4342ce"
      },
      "execution_count": 103,
      "outputs": [
        {
          "output_type": "execute_result",
          "data": {
            "text/plain": [
              "tensor([7, 7])"
            ]
          },
          "metadata": {},
          "execution_count": 103
        }
      ]
    },
    {
      "cell_type": "code",
      "source": [
        "vector.ndim"
      ],
      "metadata": {
        "colab": {
          "base_uri": "https://localhost:8080/"
        },
        "id": "qwW3YRo-kKkw",
        "outputId": "a5551561-b87c-42ca-aa49-5accce019d19"
      },
      "execution_count": 104,
      "outputs": [
        {
          "output_type": "execute_result",
          "data": {
            "text/plain": [
              "1"
            ]
          },
          "metadata": {},
          "execution_count": 104
        }
      ]
    },
    {
      "cell_type": "code",
      "source": [
        "#matrix\n",
        "matrix=torch.tensor([[7,8],[9,10]])\n",
        "matrix"
      ],
      "metadata": {
        "colab": {
          "base_uri": "https://localhost:8080/"
        },
        "id": "vD_EZm3NkMTU",
        "outputId": "c9db93cf-3c6c-499c-cec6-cd224f7a2d71"
      },
      "execution_count": 105,
      "outputs": [
        {
          "output_type": "execute_result",
          "data": {
            "text/plain": [
              "tensor([[ 7,  8],\n",
              "        [ 9, 10]])"
            ]
          },
          "metadata": {},
          "execution_count": 105
        }
      ]
    },
    {
      "cell_type": "code",
      "source": [
        "matrix.ndim"
      ],
      "metadata": {
        "colab": {
          "base_uri": "https://localhost:8080/"
        },
        "id": "3_QwlfH3ktH2",
        "outputId": "48ba0c9a-1902-4391-e67d-772bb84c635b"
      },
      "execution_count": 106,
      "outputs": [
        {
          "output_type": "execute_result",
          "data": {
            "text/plain": [
              "2"
            ]
          },
          "metadata": {},
          "execution_count": 106
        }
      ]
    },
    {
      "cell_type": "code",
      "source": [
        "matrix.shape"
      ],
      "metadata": {
        "colab": {
          "base_uri": "https://localhost:8080/"
        },
        "id": "5I4rZEmJkwI9",
        "outputId": "eb3bbbf8-2e5b-4fe7-a361-b3145ebae47b"
      },
      "execution_count": 107,
      "outputs": [
        {
          "output_type": "execute_result",
          "data": {
            "text/plain": [
              "torch.Size([2, 2])"
            ]
          },
          "metadata": {},
          "execution_count": 107
        }
      ]
    },
    {
      "cell_type": "code",
      "source": [
        "#TENSOR\n",
        "TENSOR=torch.tensor([[[1,2,3],\n",
        "                    [3,6,9],\n",
        "                    [2,4,5]]])\n",
        "TENSOR"
      ],
      "metadata": {
        "colab": {
          "base_uri": "https://localhost:8080/"
        },
        "id": "gGZsNX8blqp1",
        "outputId": "eedcff43-654b-482d-95df-f399dc440e77"
      },
      "execution_count": 108,
      "outputs": [
        {
          "output_type": "execute_result",
          "data": {
            "text/plain": [
              "tensor([[[1, 2, 3],\n",
              "         [3, 6, 9],\n",
              "         [2, 4, 5]]])"
            ]
          },
          "metadata": {},
          "execution_count": 108
        }
      ]
    },
    {
      "cell_type": "code",
      "source": [
        "TENSOR.ndim"
      ],
      "metadata": {
        "colab": {
          "base_uri": "https://localhost:8080/"
        },
        "id": "wZ3PqKkHmCjJ",
        "outputId": "1c33add2-eb3e-4c0d-ed43-0c6adc43dd14"
      },
      "execution_count": 109,
      "outputs": [
        {
          "output_type": "execute_result",
          "data": {
            "text/plain": [
              "3"
            ]
          },
          "metadata": {},
          "execution_count": 109
        }
      ]
    },
    {
      "cell_type": "code",
      "source": [
        "TENSOR.shape"
      ],
      "metadata": {
        "colab": {
          "base_uri": "https://localhost:8080/"
        },
        "id": "hwlRq4QVmG6m",
        "outputId": "41c89106-404f-4cb0-9159-3466801c1f70"
      },
      "execution_count": 110,
      "outputs": [
        {
          "output_type": "execute_result",
          "data": {
            "text/plain": [
              "torch.Size([1, 3, 3])"
            ]
          },
          "metadata": {},
          "execution_count": 110
        }
      ]
    },
    {
      "cell_type": "code",
      "source": [
        "a=torch.tensor([[[1],[2]],[[1],[1]],[[1],[2]]]) #practice\n",
        "a"
      ],
      "metadata": {
        "id": "SGr_r_wHmJ87",
        "colab": {
          "base_uri": "https://localhost:8080/"
        },
        "outputId": "37052077-37f4-48f4-c0eb-4487b8c67583"
      },
      "execution_count": 111,
      "outputs": [
        {
          "output_type": "execute_result",
          "data": {
            "text/plain": [
              "tensor([[[1],\n",
              "         [2]],\n",
              "\n",
              "        [[1],\n",
              "         [1]],\n",
              "\n",
              "        [[1],\n",
              "         [2]]])"
            ]
          },
          "metadata": {},
          "execution_count": 111
        }
      ]
    },
    {
      "cell_type": "code",
      "source": [
        "a.shape"
      ],
      "metadata": {
        "id": "7vmZ6zpzjwBB",
        "colab": {
          "base_uri": "https://localhost:8080/"
        },
        "outputId": "f03add2e-dbd8-4af8-9c93-6c37ca36076b"
      },
      "execution_count": 112,
      "outputs": [
        {
          "output_type": "execute_result",
          "data": {
            "text/plain": [
              "torch.Size([3, 2, 1])"
            ]
          },
          "metadata": {},
          "execution_count": 112
        }
      ]
    },
    {
      "cell_type": "markdown",
      "source": [
        "### Random Tensors\n",
        "Why random tensors?\n",
        "\n",
        "Random tensors are important because the way nn learns is that they start with random numbers, and then adjust those numbers to better represent the data.\n",
        "\n",
        "`Start with random numbers -> look at data -> update random numbers -> look at data -> update random numbers`\n",
        "\n",
        "Torch random tensors - https://pytorch.org/docs/stable/generated/torch.rand.html"
      ],
      "metadata": {
        "id": "BFlUQvsvPAZZ"
      }
    },
    {
      "cell_type": "code",
      "source": [
        "#create a random tensor of shape (3,4)\n",
        "random_tensor = torch.rand(3,4)\n",
        "random_tensor"
      ],
      "metadata": {
        "id": "SuAEAecsjsEW",
        "colab": {
          "base_uri": "https://localhost:8080/"
        },
        "outputId": "cb186df8-ad74-4b7c-dede-b0b1d6a64a2b"
      },
      "execution_count": 113,
      "outputs": [
        {
          "output_type": "execute_result",
          "data": {
            "text/plain": [
              "tensor([[0.9954, 0.8730, 0.2810, 0.3577],\n",
              "        [0.0831, 0.6033, 0.4939, 0.5869],\n",
              "        [0.1222, 0.7699, 0.9229, 0.3515]])"
            ]
          },
          "metadata": {},
          "execution_count": 113
        }
      ]
    },
    {
      "cell_type": "code",
      "source": [
        "random_tensor.ndim"
      ],
      "metadata": {
        "id": "coFpj3kHjsHC",
        "colab": {
          "base_uri": "https://localhost:8080/"
        },
        "outputId": "499b2255-4f84-4991-8371-0c2431663f95"
      },
      "execution_count": 114,
      "outputs": [
        {
          "output_type": "execute_result",
          "data": {
            "text/plain": [
              "2"
            ]
          },
          "metadata": {},
          "execution_count": 114
        }
      ]
    },
    {
      "cell_type": "code",
      "source": [
        "#create  a random tensor with similar shape to an image tensor\n",
        "random_image_size_tensor=torch.rand(size=(224,224,3)) #height, width, color channels (R,G,B)\n",
        "random_image_size_tensor.shape, random_image_size_tensor.ndim"
      ],
      "metadata": {
        "id": "V5wIR98hjsKY",
        "colab": {
          "base_uri": "https://localhost:8080/"
        },
        "outputId": "e2d62f67-431c-4cc2-c7e8-04466657c69b"
      },
      "execution_count": 115,
      "outputs": [
        {
          "output_type": "execute_result",
          "data": {
            "text/plain": [
              "(torch.Size([224, 224, 3]), 3)"
            ]
          },
          "metadata": {},
          "execution_count": 115
        }
      ]
    },
    {
      "cell_type": "markdown",
      "source": [
        "###Zeros and Ones"
      ],
      "metadata": {
        "id": "eHGtrW1SjsNx"
      }
    },
    {
      "cell_type": "code",
      "source": [
        "#create a tensor of all zeros\n",
        "zeros=torch.zeros(size=(3,4))\n",
        "zeros"
      ],
      "metadata": {
        "colab": {
          "base_uri": "https://localhost:8080/"
        },
        "id": "R-wV0lCwXtL9",
        "outputId": "73ebb204-c4c4-4a3a-bc89-057b8cd446cb"
      },
      "execution_count": 116,
      "outputs": [
        {
          "output_type": "execute_result",
          "data": {
            "text/plain": [
              "tensor([[0., 0., 0., 0.],\n",
              "        [0., 0., 0., 0.],\n",
              "        [0., 0., 0., 0.]])"
            ]
          },
          "metadata": {},
          "execution_count": 116
        }
      ]
    },
    {
      "cell_type": "code",
      "source": [
        "#create a tensor of ones\n",
        "ones=torch.ones(size=(3,4))\n",
        "ones"
      ],
      "metadata": {
        "colab": {
          "base_uri": "https://localhost:8080/"
        },
        "id": "wp4QgcU4X8q_",
        "outputId": "b7db8b43-030b-4bfa-e322-c8c25b3e3caa"
      },
      "execution_count": 117,
      "outputs": [
        {
          "output_type": "execute_result",
          "data": {
            "text/plain": [
              "tensor([[1., 1., 1., 1.],\n",
              "        [1., 1., 1., 1.],\n",
              "        [1., 1., 1., 1.]])"
            ]
          },
          "metadata": {},
          "execution_count": 117
        }
      ]
    },
    {
      "cell_type": "code",
      "source": [
        "ones.dtype"
      ],
      "metadata": {
        "colab": {
          "base_uri": "https://localhost:8080/"
        },
        "id": "b_3QeI5LYb9y",
        "outputId": "a11a2cff-7159-4a41-f6fc-a11789934257"
      },
      "execution_count": 118,
      "outputs": [
        {
          "output_type": "execute_result",
          "data": {
            "text/plain": [
              "torch.float32"
            ]
          },
          "metadata": {},
          "execution_count": 118
        }
      ]
    },
    {
      "cell_type": "markdown",
      "source": [
        "### Create a range of tensors and tensors-like"
      ],
      "metadata": {
        "id": "CA_P-YqTc0JT"
      }
    },
    {
      "cell_type": "code",
      "source": [
        "# use torch.range()\n",
        "one_to_ten= torch.arange(0,10)\n",
        "one_to_ten"
      ],
      "metadata": {
        "colab": {
          "base_uri": "https://localhost:8080/"
        },
        "id": "h7roeJ6GXtIr",
        "outputId": "f771e742-15df-46f8-e71e-928c48e46e13"
      },
      "execution_count": 119,
      "outputs": [
        {
          "output_type": "execute_result",
          "data": {
            "text/plain": [
              "tensor([0, 1, 2, 3, 4, 5, 6, 7, 8, 9])"
            ]
          },
          "metadata": {},
          "execution_count": 119
        }
      ]
    },
    {
      "cell_type": "code",
      "source": [
        "#steps\n",
        "x= torch.arange(start=0,end=11, step=1)\n",
        "x"
      ],
      "metadata": {
        "colab": {
          "base_uri": "https://localhost:8080/"
        },
        "id": "j5TNIFpddRKO",
        "outputId": "bbb2600b-5573-4ecc-934a-3de344ebeeed"
      },
      "execution_count": 120,
      "outputs": [
        {
          "output_type": "execute_result",
          "data": {
            "text/plain": [
              "tensor([ 0,  1,  2,  3,  4,  5,  6,  7,  8,  9, 10])"
            ]
          },
          "metadata": {},
          "execution_count": 120
        }
      ]
    },
    {
      "cell_type": "code",
      "source": [
        "#creating tensors like\n",
        "#creates zeros with same shape as one_to_ten\n",
        "ten_zeros=torch.zeros_like(input=one_to_ten)\n",
        "ten_zeros"
      ],
      "metadata": {
        "colab": {
          "base_uri": "https://localhost:8080/"
        },
        "id": "WvwgrUVqXtGK",
        "outputId": "8264ea7b-cde2-49b8-844f-4a4ff1ef19ed"
      },
      "execution_count": 121,
      "outputs": [
        {
          "output_type": "execute_result",
          "data": {
            "text/plain": [
              "tensor([0, 0, 0, 0, 0, 0, 0, 0, 0, 0])"
            ]
          },
          "metadata": {},
          "execution_count": 121
        }
      ]
    },
    {
      "cell_type": "markdown",
      "source": [
        "### Tensor Datatypes\n",
        "\n",
        "**Note:** Tensor Datatype is one of the 3 big errors you'll run into with PyTorch and deep learning:\n",
        "1. Tensors not right datatype\n",
        "2. Tensors not right shape\n",
        "3. Tensors not on the right device"
      ],
      "metadata": {
        "id": "2SeyuV2dXtD6"
      }
    },
    {
      "cell_type": "code",
      "source": [
        "#Float 32 tensor\n",
        "float_32_tensor=torch.tensor([3.0,6.0,9.0], dtype=None,)\n",
        "float_32_tensor"
      ],
      "metadata": {
        "colab": {
          "base_uri": "https://localhost:8080/"
        },
        "id": "eVBuw4PJXtBW",
        "outputId": "be724554-348d-43fd-a0c0-6deb5d4fbfba"
      },
      "execution_count": 122,
      "outputs": [
        {
          "output_type": "execute_result",
          "data": {
            "text/plain": [
              "tensor([3., 6., 9.])"
            ]
          },
          "metadata": {},
          "execution_count": 122
        }
      ]
    },
    {
      "cell_type": "code",
      "source": [
        "float_32_tensor.dtype\n",
        "#by default, tensor dtype is float32 (single precision)"
      ],
      "metadata": {
        "colab": {
          "base_uri": "https://localhost:8080/"
        },
        "id": "eRuYsBeRXs_C",
        "outputId": "48cc122e-3829-468c-8d7e-3b83e815c502"
      },
      "execution_count": 123,
      "outputs": [
        {
          "output_type": "execute_result",
          "data": {
            "text/plain": [
              "torch.float32"
            ]
          },
          "metadata": {},
          "execution_count": 123
        }
      ]
    },
    {
      "cell_type": "code",
      "source": [
        "float_16_tensor=torch.tensor([3.0,6.0,9.0], dtype=torch.float16)\n",
        "float_16_tensor"
      ],
      "metadata": {
        "colab": {
          "base_uri": "https://localhost:8080/"
        },
        "id": "OGUufVuQgLm0",
        "outputId": "c70f32c1-4ef0-441b-fd3c-2f5294cda9f2"
      },
      "execution_count": 124,
      "outputs": [
        {
          "output_type": "execute_result",
          "data": {
            "text/plain": [
              "tensor([3., 6., 9.], dtype=torch.float16)"
            ]
          },
          "metadata": {},
          "execution_count": 124
        }
      ]
    },
    {
      "cell_type": "code",
      "source": [
        "float_16_tensor.dtype"
      ],
      "metadata": {
        "colab": {
          "base_uri": "https://localhost:8080/"
        },
        "id": "cWa9tysMXs7A",
        "outputId": "e22945fb-1ade-41dd-b1d7-b498da99b096"
      },
      "execution_count": 125,
      "outputs": [
        {
          "output_type": "execute_result",
          "data": {
            "text/plain": [
              "torch.float16"
            ]
          },
          "metadata": {},
          "execution_count": 125
        }
      ]
    },
    {
      "cell_type": "code",
      "source": [
        "#Float 32 tensor\n",
        "float_32_tensor=torch.tensor([3.0,6.0,9.0],\n",
        "                             dtype=None, # what datatype is the tensor (e,g float32 or float16)\n",
        "                             device=None, #what device is your tensor on\n",
        "                             requires_grad=False #whether or not to track gradients with this tensor operation\n",
        "                             )\n",
        "float_32_tensor"
      ],
      "metadata": {
        "id": "AK4HKj2zXsxg",
        "colab": {
          "base_uri": "https://localhost:8080/"
        },
        "outputId": "d5417ffe-d6a5-44f1-b1b1-7df0e8ab5bea"
      },
      "execution_count": 126,
      "outputs": [
        {
          "output_type": "execute_result",
          "data": {
            "text/plain": [
              "tensor([3., 6., 9.])"
            ]
          },
          "metadata": {},
          "execution_count": 126
        }
      ]
    },
    {
      "cell_type": "code",
      "source": [
        "float_16_tensor=float_32_tensor.type(torch.float16)\n",
        "float_16_tensor"
      ],
      "metadata": {
        "colab": {
          "base_uri": "https://localhost:8080/"
        },
        "id": "aUsMbDuRXsuD",
        "outputId": "87e899a3-8c52-4d24-aafb-495f3a65f666"
      },
      "execution_count": 127,
      "outputs": [
        {
          "output_type": "execute_result",
          "data": {
            "text/plain": [
              "tensor([3., 6., 9.], dtype=torch.float16)"
            ]
          },
          "metadata": {},
          "execution_count": 127
        }
      ]
    },
    {
      "cell_type": "code",
      "source": [
        "#multiply two tensors\n",
        "x=float_16_tensor*float_32_tensor"
      ],
      "metadata": {
        "id": "DV5-_N79Xsr8"
      },
      "execution_count": 128,
      "outputs": []
    },
    {
      "cell_type": "code",
      "source": [
        "x.dtype"
      ],
      "metadata": {
        "colab": {
          "base_uri": "https://localhost:8080/"
        },
        "id": "UTL7cUS0Xspl",
        "outputId": "dd8d3e8b-f8c3-4241-ead7-9534e289496d"
      },
      "execution_count": 129,
      "outputs": [
        {
          "output_type": "execute_result",
          "data": {
            "text/plain": [
              "torch.float32"
            ]
          },
          "metadata": {},
          "execution_count": 129
        }
      ]
    },
    {
      "cell_type": "markdown",
      "source": [
        "### Getting information from Tensors (tensor attributes)\n",
        "1. Tensors not right datatype - to get datatype from a tensor, can use `tensor.dtype`\n",
        "2. Tensors not right shape - to get shape from a tensor, can use `tensor.shape`\n",
        "3. Tensors not on the right device - to get device from a tensor, can use `tensor.device`"
      ],
      "metadata": {
        "id": "_-Ic7cIXmzOW"
      }
    },
    {
      "cell_type": "code",
      "source": [
        "#create a tensor\n",
        "some_tensor=torch.rand(3,4)\n",
        "some_tensor"
      ],
      "metadata": {
        "colab": {
          "base_uri": "https://localhost:8080/"
        },
        "id": "oo94a2r6mzQd",
        "outputId": "0247a513-ea8f-4b72-ae82-d6a94036e193"
      },
      "execution_count": 130,
      "outputs": [
        {
          "output_type": "execute_result",
          "data": {
            "text/plain": [
              "tensor([[0.0946, 0.9280, 0.5854, 0.6172],\n",
              "        [0.8881, 0.6485, 0.2352, 0.8697],\n",
              "        [0.1882, 0.7166, 0.1209, 0.5642]])"
            ]
          },
          "metadata": {},
          "execution_count": 130
        }
      ]
    },
    {
      "cell_type": "code",
      "source": [
        "#find out details about soem tensor\n",
        "print(some_tensor)\n",
        "print(f\"Datatype of tensor : {some_tensor.dtype}\")\n",
        "print(f\"Shape of tensor : {some_tensor.shape}\")\n",
        "print(f\"Device tensor is on : {some_tensor.device}\")"
      ],
      "metadata": {
        "colab": {
          "base_uri": "https://localhost:8080/"
        },
        "id": "BZArdmrWmzWr",
        "outputId": "a6ab56be-f8f7-4699-ac5a-0bfe8108cf0c"
      },
      "execution_count": 131,
      "outputs": [
        {
          "output_type": "stream",
          "name": "stdout",
          "text": [
            "tensor([[0.0946, 0.9280, 0.5854, 0.6172],\n",
            "        [0.8881, 0.6485, 0.2352, 0.8697],\n",
            "        [0.1882, 0.7166, 0.1209, 0.5642]])\n",
            "Datatype of tensor : torch.float32\n",
            "Shape of tensor : torch.Size([3, 4])\n",
            "Device tensor is on : cpu\n"
          ]
        }
      ]
    },
    {
      "cell_type": "markdown",
      "source": [
        "### Manipulating tensors (tensor operations)\n",
        "\n",
        "Tensor operations include:\n",
        "* Addition\n",
        "* Subtraction\n",
        "* Multiplication (element-wise)\n",
        "* Division\n",
        "* Matrix multiplication"
      ],
      "metadata": {
        "id": "hCX3jAnEmzeV"
      }
    },
    {
      "cell_type": "code",
      "source": [
        "##create a tensor and add 10 to it\n",
        "tensor= torch.tensor([1,2,3])\n",
        "tensor+100"
      ],
      "metadata": {
        "colab": {
          "base_uri": "https://localhost:8080/"
        },
        "id": "SrXqXPtlmzgg",
        "outputId": "611401fc-9e56-40bd-e048-37f23d1280b7"
      },
      "execution_count": 132,
      "outputs": [
        {
          "output_type": "execute_result",
          "data": {
            "text/plain": [
              "tensor([101, 102, 103])"
            ]
          },
          "metadata": {},
          "execution_count": 132
        }
      ]
    },
    {
      "cell_type": "code",
      "source": [
        "#multiply tensor by 10\n",
        "tensor*10"
      ],
      "metadata": {
        "colab": {
          "base_uri": "https://localhost:8080/"
        },
        "id": "ZeYqE8uk0tYQ",
        "outputId": "6e513072-d844-4d9e-8f60-94fbaeea8e77"
      },
      "execution_count": 133,
      "outputs": [
        {
          "output_type": "execute_result",
          "data": {
            "text/plain": [
              "tensor([10, 20, 30])"
            ]
          },
          "metadata": {},
          "execution_count": 133
        }
      ]
    },
    {
      "cell_type": "code",
      "source": [
        "#subtract 10\n",
        "tensor-10"
      ],
      "metadata": {
        "colab": {
          "base_uri": "https://localhost:8080/"
        },
        "id": "Eex548fx09AB",
        "outputId": "a48a822b-c78c-42ee-cf99-b85c4cbb451b"
      },
      "execution_count": 134,
      "outputs": [
        {
          "output_type": "execute_result",
          "data": {
            "text/plain": [
              "tensor([-9, -8, -7])"
            ]
          },
          "metadata": {},
          "execution_count": 134
        }
      ]
    },
    {
      "cell_type": "code",
      "source": [
        "#Tryout Pytorch in-bulit functions\n",
        "torch.mul(tensor,10)"
      ],
      "metadata": {
        "colab": {
          "base_uri": "https://localhost:8080/"
        },
        "id": "r6pil3Nd1Amy",
        "outputId": "7cbccea9-ddb5-4d3f-e810-553894be5e2a"
      },
      "execution_count": 135,
      "outputs": [
        {
          "output_type": "execute_result",
          "data": {
            "text/plain": [
              "tensor([10, 20, 30])"
            ]
          },
          "metadata": {},
          "execution_count": 135
        }
      ]
    },
    {
      "cell_type": "code",
      "source": [
        "torch.add(tensor,10)"
      ],
      "metadata": {
        "colab": {
          "base_uri": "https://localhost:8080/"
        },
        "id": "C0GcwteI1KtZ",
        "outputId": "38224c1a-cdbe-4155-c349-68ee92889591"
      },
      "execution_count": 136,
      "outputs": [
        {
          "output_type": "execute_result",
          "data": {
            "text/plain": [
              "tensor([11, 12, 13])"
            ]
          },
          "metadata": {},
          "execution_count": 136
        }
      ]
    },
    {
      "cell_type": "markdown",
      "source": [
        "###Matrix Multiplication\n",
        "\n",
        "Two main ways of performing multiplication in nn & deep learning\n",
        "\n",
        "1. element-wise multiplication\n",
        "2. matirx multiplication\n",
        "\n",
        "Two main rules must be satisfied when performing matrix multiplication\n",
        "1. The *inner dimensions** must match\n",
        "* `(3, 2) @ (3, 2) ` won't work\n",
        "* `(2, 3) @ (3, 2)` will work\n",
        "* `(3, 2) @ (2, 3)` wil work\n",
        "\n",
        "2. The resulting matrix has shape of **outer dimension**\n",
        " * `(2, 3) * (3, 2) -> (2, 2)`\n",
        " * `(3, 2) * (2, 3) -> (3, 3)`"
      ],
      "metadata": {
        "id": "tDnU3_Nv5CsW"
      }
    },
    {
      "cell_type": "code",
      "source": [
        "#element wise multiplication\n",
        "print(tensor, \"*\", tensor)\n",
        "print(f\"Equals: {tensor*tensor}\")"
      ],
      "metadata": {
        "colab": {
          "base_uri": "https://localhost:8080/"
        },
        "id": "u4RY79Xm0rQQ",
        "outputId": "e96c5909-6e7a-4f86-85ff-8d6285844499"
      },
      "execution_count": 137,
      "outputs": [
        {
          "output_type": "stream",
          "name": "stdout",
          "text": [
            "tensor([1, 2, 3]) * tensor([1, 2, 3])\n",
            "Equals: tensor([1, 4, 9])\n"
          ]
        }
      ]
    },
    {
      "cell_type": "code",
      "source": [
        "#Matrix multiplication\n",
        "torch.matmul(tensor,tensor)"
      ],
      "metadata": {
        "colab": {
          "base_uri": "https://localhost:8080/"
        },
        "id": "XyV9RBZUmzjd",
        "outputId": "b5afeb91-957e-4934-ff4b-fc204522af88"
      },
      "execution_count": 138,
      "outputs": [
        {
          "output_type": "execute_result",
          "data": {
            "text/plain": [
              "tensor(14)"
            ]
          },
          "metadata": {},
          "execution_count": 138
        }
      ]
    },
    {
      "cell_type": "code",
      "source": [
        "torch.matmul(torch.rand(3,2),torch.rand(2,3))"
      ],
      "metadata": {
        "colab": {
          "base_uri": "https://localhost:8080/"
        },
        "id": "tyPfmq87mzlc",
        "outputId": "6f81b249-b6dc-4ba0-ee4e-b2a529488080"
      },
      "execution_count": 139,
      "outputs": [
        {
          "output_type": "execute_result",
          "data": {
            "text/plain": [
              "tensor([[0.1315, 0.2203, 0.1512],\n",
              "        [0.3638, 0.3520, 0.2960],\n",
              "        [0.6670, 0.4756, 0.4620]])"
            ]
          },
          "metadata": {},
          "execution_count": 139
        }
      ]
    },
    {
      "cell_type": "markdown",
      "source": [
        "### One of the most common errors in DL: Shape errors\n"
      ],
      "metadata": {
        "id": "vtR3rJDEmznx"
      }
    },
    {
      "cell_type": "code",
      "source": [
        "tensor_A = torch.tensor([[1,2],\n",
        "                        [3,4],\n",
        "                        [5,6]])\n",
        "tensor_B = torch.tensor([[7,10],\n",
        "                        [8,11],\n",
        "                        [9,12]])\n",
        "torch.mm(tensor_A,tensor_B) #torch.mm is the same as torch.matmul (it's an alias for matmul)"
      ],
      "metadata": {
        "colab": {
          "base_uri": "https://localhost:8080/",
          "height": 188
        },
        "id": "6Pg1mGuxmzp8",
        "outputId": "f3757ee9-b827-4996-c980-c6d25d441bf1"
      },
      "execution_count": 140,
      "outputs": [
        {
          "output_type": "error",
          "ename": "RuntimeError",
          "evalue": "mat1 and mat2 shapes cannot be multiplied (3x2 and 3x2)",
          "traceback": [
            "\u001b[0;31m---------------------------------------------------------------------------\u001b[0m",
            "\u001b[0;31mRuntimeError\u001b[0m                              Traceback (most recent call last)",
            "\u001b[0;32m/tmp/ipython-input-1506687581.py\u001b[0m in \u001b[0;36m<cell line: 0>\u001b[0;34m()\u001b[0m\n\u001b[1;32m      5\u001b[0m                         \u001b[0;34m[\u001b[0m\u001b[0;36m8\u001b[0m\u001b[0;34m,\u001b[0m\u001b[0;36m11\u001b[0m\u001b[0;34m]\u001b[0m\u001b[0;34m,\u001b[0m\u001b[0;34m\u001b[0m\u001b[0;34m\u001b[0m\u001b[0m\n\u001b[1;32m      6\u001b[0m                         [9,12]])\n\u001b[0;32m----> 7\u001b[0;31m \u001b[0mtorch\u001b[0m\u001b[0;34m.\u001b[0m\u001b[0mmm\u001b[0m\u001b[0;34m(\u001b[0m\u001b[0mtensor_A\u001b[0m\u001b[0;34m,\u001b[0m\u001b[0mtensor_B\u001b[0m\u001b[0;34m)\u001b[0m \u001b[0;31m#torch.mm is the same as torch.matmul (it's an alias for matmul)\u001b[0m\u001b[0;34m\u001b[0m\u001b[0;34m\u001b[0m\u001b[0m\n\u001b[0m",
            "\u001b[0;31mRuntimeError\u001b[0m: mat1 and mat2 shapes cannot be multiplied (3x2 and 3x2)"
          ]
        }
      ]
    },
    {
      "cell_type": "code",
      "source": [
        "tensor_B, tensor_B.shape"
      ],
      "metadata": {
        "colab": {
          "base_uri": "https://localhost:8080/"
        },
        "id": "sGftvk7g4uQ9",
        "outputId": "19940ccf-407c-4681-c7bf-58769ca2db9a"
      },
      "execution_count": 141,
      "outputs": [
        {
          "output_type": "execute_result",
          "data": {
            "text/plain": [
              "(tensor([[ 7, 10],\n",
              "         [ 8, 11],\n",
              "         [ 9, 12]]),\n",
              " torch.Size([3, 2]))"
            ]
          },
          "metadata": {},
          "execution_count": 141
        }
      ]
    },
    {
      "cell_type": "markdown",
      "source": [
        "To fix out tensor shape issues, we can manipulate the shape of one of our tensors using a **transpose**.\n",
        "\n",
        "A **transpose** switches the axes or dimensions of a given tensor\n"
      ],
      "metadata": {
        "id": "CPmxLJ3Nmzsh"
      }
    },
    {
      "cell_type": "code",
      "source": [
        "tensor_B.T, tensor_B.T.shape"
      ],
      "metadata": {
        "colab": {
          "base_uri": "https://localhost:8080/"
        },
        "id": "U4cRlg6zmzue",
        "outputId": "1a1dd2e9-f830-4986-c514-8194514ae0b0"
      },
      "execution_count": 142,
      "outputs": [
        {
          "output_type": "execute_result",
          "data": {
            "text/plain": [
              "(tensor([[ 7,  8,  9],\n",
              "         [10, 11, 12]]),\n",
              " torch.Size([2, 3]))"
            ]
          },
          "metadata": {},
          "execution_count": 142
        }
      ]
    },
    {
      "cell_type": "code",
      "source": [
        "#The matrix multiplication works when tensor_B is transposed\n",
        "print(f\"Original shapes: tensor_A = {tensor_A.shape}, tensor_B = {tensor_B.shape}\")\n",
        "print(f\"New shapes: tensor_A = {tensor_A.shape} (same shape as above), tensor_B.T = {tensor_B.T.shape}\")\n",
        "print(f\"Multiplying: {tensor_A.shape} @ {tensor_B.T.shape} <- inner dimensions must match\")\n",
        "print(\"Output:\\n\")\n",
        "output = torch.matmul(tensor_A, tensor_B.T)\n",
        "print(output)\n",
        "print(f\"\\nOutput shape: {output.shape}\")"
      ],
      "metadata": {
        "colab": {
          "base_uri": "https://localhost:8080/"
        },
        "id": "skdE0IPE438m",
        "outputId": "46cc4d24-76c1-499c-f16d-ecfe580e5d7d"
      },
      "execution_count": 143,
      "outputs": [
        {
          "output_type": "stream",
          "name": "stdout",
          "text": [
            "Original shapes: tensor_A = torch.Size([3, 2]), tensor_B = torch.Size([3, 2])\n",
            "New shapes: tensor_A = torch.Size([3, 2]) (same shape as above), tensor_B.T = torch.Size([2, 3])\n",
            "Multiplying: torch.Size([3, 2]) @ torch.Size([2, 3]) <- inner dimensions must match\n",
            "Output:\n",
            "\n",
            "tensor([[ 27,  30,  33],\n",
            "        [ 61,  68,  75],\n",
            "        [ 95, 106, 117]])\n",
            "\n",
            "Output shape: torch.Size([3, 3])\n"
          ]
        }
      ]
    },
    {
      "cell_type": "markdown",
      "source": [
        "### Finding the min, max, mean, sum etc ( tensor aggregation)"
      ],
      "metadata": {
        "id": "mTtSdGP64nKR"
      }
    },
    {
      "cell_type": "code",
      "source": [
        "#create a tensor\n",
        "x=torch.arange(0,100,10)\n",
        "x\n"
      ],
      "metadata": {
        "colab": {
          "base_uri": "https://localhost:8080/"
        },
        "id": "oGBjaou8mzwn",
        "outputId": "aa0d4fb6-9876-4b44-fda2-ad8a94544d23"
      },
      "execution_count": 144,
      "outputs": [
        {
          "output_type": "execute_result",
          "data": {
            "text/plain": [
              "tensor([ 0, 10, 20, 30, 40, 50, 60, 70, 80, 90])"
            ]
          },
          "metadata": {},
          "execution_count": 144
        }
      ]
    },
    {
      "cell_type": "code",
      "source": [
        "#find the min\n",
        "torch.min(x), x.min()"
      ],
      "metadata": {
        "colab": {
          "base_uri": "https://localhost:8080/"
        },
        "id": "eYPka-Z3mz2_",
        "outputId": "7b9517b4-d4b3-4a3a-c263-505a2c19c464"
      },
      "execution_count": 145,
      "outputs": [
        {
          "output_type": "execute_result",
          "data": {
            "text/plain": [
              "(tensor(0), tensor(0))"
            ]
          },
          "metadata": {},
          "execution_count": 145
        }
      ]
    },
    {
      "cell_type": "code",
      "source": [
        "#find the max\n",
        "torch.max(x), x.max()"
      ],
      "metadata": {
        "colab": {
          "base_uri": "https://localhost:8080/"
        },
        "id": "rqtcfxVqRBr8",
        "outputId": "c34c5787-0bc7-401c-c7ea-637ab607c417"
      },
      "execution_count": 146,
      "outputs": [
        {
          "output_type": "execute_result",
          "data": {
            "text/plain": [
              "(tensor(90), tensor(90))"
            ]
          },
          "metadata": {},
          "execution_count": 146
        }
      ]
    },
    {
      "cell_type": "code",
      "source": [
        "#find the mean\n",
        "#note this wont work on dtype = torch.float64\n",
        "torch.mean(x.type(torch.float32)), x.type(torch.float32).mean()"
      ],
      "metadata": {
        "colab": {
          "base_uri": "https://localhost:8080/"
        },
        "id": "BVTr0nD7RBuy",
        "outputId": "8262f3c3-d66f-483f-a308-74e0106f5dc3"
      },
      "execution_count": 147,
      "outputs": [
        {
          "output_type": "execute_result",
          "data": {
            "text/plain": [
              "(tensor(45.), tensor(45.))"
            ]
          },
          "metadata": {},
          "execution_count": 147
        }
      ]
    },
    {
      "cell_type": "code",
      "source": [
        "torch.sum(x), x.sum()"
      ],
      "metadata": {
        "colab": {
          "base_uri": "https://localhost:8080/"
        },
        "id": "RgWyUkMrRBxa",
        "outputId": "e9f93f7c-b4b4-497d-85f8-0f72ba66a497"
      },
      "execution_count": 148,
      "outputs": [
        {
          "output_type": "execute_result",
          "data": {
            "text/plain": [
              "(tensor(450), tensor(450))"
            ]
          },
          "metadata": {},
          "execution_count": 148
        }
      ]
    },
    {
      "cell_type": "markdown",
      "source": [
        "### Finding the Positional min and max"
      ],
      "metadata": {
        "id": "-tXMGX8PRBzm"
      }
    },
    {
      "cell_type": "code",
      "source": [
        "#finds the postion in tensor that has minimum value and returns the index position\n",
        "x.argmin()"
      ],
      "metadata": {
        "colab": {
          "base_uri": "https://localhost:8080/"
        },
        "id": "C_I7eJK0RB12",
        "outputId": "c9f1927b-d0bf-498f-b348-938e6f63fb73"
      },
      "execution_count": 149,
      "outputs": [
        {
          "output_type": "execute_result",
          "data": {
            "text/plain": [
              "tensor(0)"
            ]
          },
          "metadata": {},
          "execution_count": 149
        }
      ]
    },
    {
      "cell_type": "code",
      "source": [
        "#finds the postion in tensor that has maximum value and returns the index position\n",
        "x.argmax()"
      ],
      "metadata": {
        "colab": {
          "base_uri": "https://localhost:8080/"
        },
        "id": "mQ8_xa9LS2zz",
        "outputId": "faddff57-7cc8-4b46-dd55-062fecdf7d87"
      },
      "execution_count": 150,
      "outputs": [
        {
          "output_type": "execute_result",
          "data": {
            "text/plain": [
              "tensor(9)"
            ]
          },
          "metadata": {},
          "execution_count": 150
        }
      ]
    },
    {
      "cell_type": "markdown",
      "source": [
        "## Reshaping, stacking, squeezing and unsqueezign tensors\n",
        "* Reshaping - reshapes an input tensor to a defined shape\n",
        "* View - return a view of an input tensor of certain shape but keep the same memory as the original tensor\n",
        "* Stacking - combine multiple tensors on top of each other (vstack) or side by side (hstack)\n",
        "* Squeeze - removes all `1` dimensions from a tensor\n",
        "* Unsqueeze - add a `1` dimension to a target tensor\n",
        "* Permute - Return a view of the input with dimensions permuted (swapped) in a certain way"
      ],
      "metadata": {
        "id": "Trs8QnuqTyVp"
      }
    },
    {
      "cell_type": "code",
      "source": [
        "#create tensor\n",
        "x= torch.arange(1.,10,)\n",
        "x, x.shape"
      ],
      "metadata": {
        "colab": {
          "base_uri": "https://localhost:8080/"
        },
        "id": "iMAMYd5IRB5-",
        "outputId": "87b5707a-b5c1-43ee-b733-f719914a7582"
      },
      "execution_count": 151,
      "outputs": [
        {
          "output_type": "execute_result",
          "data": {
            "text/plain": [
              "(tensor([1., 2., 3., 4., 5., 6., 7., 8., 9.]), torch.Size([9]))"
            ]
          },
          "metadata": {},
          "execution_count": 151
        }
      ]
    },
    {
      "cell_type": "code",
      "source": [
        "# Add an extra dimension\n",
        "x_reshaped = x.reshape (1, 9) # the new shape must be compatible with original size\n",
        "x_reshaped, x_reshaped.shape"
      ],
      "metadata": {
        "colab": {
          "base_uri": "https://localhost:8080/"
        },
        "id": "R7sCK732WmPh",
        "outputId": "706ba0a1-dd56-43da-b6fe-31420191a858"
      },
      "execution_count": 152,
      "outputs": [
        {
          "output_type": "execute_result",
          "data": {
            "text/plain": [
              "(tensor([[1., 2., 3., 4., 5., 6., 7., 8., 9.]]), torch.Size([1, 9]))"
            ]
          },
          "metadata": {},
          "execution_count": 152
        }
      ]
    },
    {
      "cell_type": "code",
      "source": [
        "# Change of view\n",
        "\n",
        "z=x.view(1,9)\n",
        "z, z.shape"
      ],
      "metadata": {
        "colab": {
          "base_uri": "https://localhost:8080/"
        },
        "id": "OKbL15yIXwQz",
        "outputId": "27e3bfe2-0f83-4f15-a19b-4bdeed164799"
      },
      "execution_count": 153,
      "outputs": [
        {
          "output_type": "execute_result",
          "data": {
            "text/plain": [
              "(tensor([[1., 2., 3., 4., 5., 6., 7., 8., 9.]]), torch.Size([1, 9]))"
            ]
          },
          "metadata": {},
          "execution_count": 153
        }
      ]
    },
    {
      "cell_type": "code",
      "source": [
        "#view shares mermory with original tensor, changing z changes x\n",
        "z[:,0]=5\n",
        "z,x"
      ],
      "metadata": {
        "colab": {
          "base_uri": "https://localhost:8080/"
        },
        "id": "B_Q_jN_PZPHp",
        "outputId": "6c7af4ab-d58c-431d-e16b-ded0de91bf02"
      },
      "execution_count": 154,
      "outputs": [
        {
          "output_type": "execute_result",
          "data": {
            "text/plain": [
              "(tensor([[5., 2., 3., 4., 5., 6., 7., 8., 9.]]),\n",
              " tensor([5., 2., 3., 4., 5., 6., 7., 8., 9.]))"
            ]
          },
          "metadata": {},
          "execution_count": 154
        }
      ]
    },
    {
      "cell_type": "code",
      "source": [
        "#stack tensors on top of each other\n",
        "x_stacked = torch.stack ([x,x,x,x], dim=0)\n",
        "x_stacked"
      ],
      "metadata": {
        "colab": {
          "base_uri": "https://localhost:8080/"
        },
        "id": "jii7-e8KZqZ1",
        "outputId": "d8949301-7274-46d5-ae56-ad7a9c914284"
      },
      "execution_count": 155,
      "outputs": [
        {
          "output_type": "execute_result",
          "data": {
            "text/plain": [
              "tensor([[5., 2., 3., 4., 5., 6., 7., 8., 9.],\n",
              "        [5., 2., 3., 4., 5., 6., 7., 8., 9.],\n",
              "        [5., 2., 3., 4., 5., 6., 7., 8., 9.],\n",
              "        [5., 2., 3., 4., 5., 6., 7., 8., 9.]])"
            ]
          },
          "metadata": {},
          "execution_count": 155
        }
      ]
    },
    {
      "cell_type": "code",
      "source": [
        "#torch.squeeze\n",
        "x_reshaped.squeeze()"
      ],
      "metadata": {
        "colab": {
          "base_uri": "https://localhost:8080/"
        },
        "id": "wbQ8k1WcaYLx",
        "outputId": "cbd7159a-6cd7-4bf5-b0e1-734fae4ad4d8"
      },
      "execution_count": 156,
      "outputs": [
        {
          "output_type": "execute_result",
          "data": {
            "text/plain": [
              "tensor([5., 2., 3., 4., 5., 6., 7., 8., 9.])"
            ]
          },
          "metadata": {},
          "execution_count": 156
        }
      ]
    },
    {
      "cell_type": "code",
      "source": [
        "x_reshaped.squeeze().shape"
      ],
      "metadata": {
        "colab": {
          "base_uri": "https://localhost:8080/"
        },
        "id": "_oVPEC27dOZz",
        "outputId": "27abeb3f-3dce-4c15-aa4c-40ec2799c7bc"
      },
      "execution_count": 157,
      "outputs": [
        {
          "output_type": "execute_result",
          "data": {
            "text/plain": [
              "torch.Size([9])"
            ]
          },
          "metadata": {},
          "execution_count": 157
        }
      ]
    },
    {
      "cell_type": "code",
      "source": [
        "print(f\"previous tensor: {x_reshaped}\")\n",
        "print(f\"Precious shaape: {x_reshaped.shape}\")\n",
        "\n",
        "#remove extra dimensions from x_reshaped\n",
        "x_squeezed=x_reshaped.squeeze()\n",
        "print(f\"\\nNew tensor: {x_squeezed}\")\n",
        "print(f\"New shaoe: {x_squeezed.shape}\")"
      ],
      "metadata": {
        "colab": {
          "base_uri": "https://localhost:8080/"
        },
        "id": "JZ2-fQB9dSLm",
        "outputId": "139fee8d-75c2-4936-bc7d-48a1ad521130"
      },
      "execution_count": 158,
      "outputs": [
        {
          "output_type": "stream",
          "name": "stdout",
          "text": [
            "previous tensor: tensor([[5., 2., 3., 4., 5., 6., 7., 8., 9.]])\n",
            "Precious shaape: torch.Size([1, 9])\n",
            "\n",
            "New tensor: tensor([5., 2., 3., 4., 5., 6., 7., 8., 9.])\n",
            "New shaoe: torch.Size([9])\n"
          ]
        }
      ]
    },
    {
      "cell_type": "code",
      "source": [
        "#torch.unsqueeze() adds a single dim to a target tensor at a specific dim\n",
        "print(f\"previous target: {x_squeezed}\")\n",
        "print(f\"Previous shaape: {x_squeezed.shape}\")\n",
        "\n",
        "#add extra dimensions with unsqueeze\n",
        "x_unsqueezed=x_squeezed.unsqueeze(dim=0)\n",
        "print(f\"\\nNew tensor: {x_unsqueezed}\")\n",
        "print(f\"New shaoe: {x_unsqueezed.shape}\")"
      ],
      "metadata": {
        "colab": {
          "base_uri": "https://localhost:8080/"
        },
        "id": "QKAwmmm0RCI9",
        "outputId": "df8a3943-7a65-46cd-e91e-cf6c3aab53fe"
      },
      "execution_count": 159,
      "outputs": [
        {
          "output_type": "stream",
          "name": "stdout",
          "text": [
            "previous target: tensor([5., 2., 3., 4., 5., 6., 7., 8., 9.])\n",
            "Previous shaape: torch.Size([9])\n",
            "\n",
            "New tensor: tensor([[5., 2., 3., 4., 5., 6., 7., 8., 9.]])\n",
            "New shaoe: torch.Size([1, 9])\n"
          ]
        }
      ]
    },
    {
      "cell_type": "code",
      "source": [
        "#torch.permute rearranges the dimensions of a target tensor in a specified order ( especially used in images)\n",
        "x_original = torch.rand(size=(224, 224, 3)) #height, width, color channels\n",
        "#permute the original tensor to rearrange the axis or dim order\n",
        "x_permuted=x_original.permute(2,0,1) #shifta axis 0 to 1, 1 to 2 and 2 to 0\n",
        "print(f\"Previpus shape: {x_original.shape}\")\n",
        "print(f\"New Shape: {x_permuted.shape}\") # color channels, height, width"
      ],
      "metadata": {
        "colab": {
          "base_uri": "https://localhost:8080/"
        },
        "id": "ZL6mB9chgz5x",
        "outputId": "c92f3ddc-5638-4d2a-b9b8-0044a2cc1510"
      },
      "execution_count": 160,
      "outputs": [
        {
          "output_type": "stream",
          "name": "stdout",
          "text": [
            "Previpus shape: torch.Size([224, 224, 3])\n",
            "New Shape: torch.Size([3, 224, 224])\n"
          ]
        }
      ]
    },
    {
      "cell_type": "code",
      "source": [
        "#x_permute shares same mermory as x_original so changing one changes the other\n",
        "x_original[0,0,0]=728218\n",
        "x_original[0,0,0], x_permuted[0,0,0]"
      ],
      "metadata": {
        "colab": {
          "base_uri": "https://localhost:8080/"
        },
        "id": "DDcUbU9VkGiA",
        "outputId": "5abf3548-e8e0-49d2-b559-23d7440ebbd3"
      },
      "execution_count": 161,
      "outputs": [
        {
          "output_type": "execute_result",
          "data": {
            "text/plain": [
              "(tensor(728218.), tensor(728218.))"
            ]
          },
          "metadata": {},
          "execution_count": 161
        }
      ]
    },
    {
      "cell_type": "markdown",
      "source": [
        "### Indexing ( Selecting data from tensors)\n",
        "indexign with PyTorch is simiilar to indexign with NumPy"
      ],
      "metadata": {
        "id": "zx4xOW8ikeCP"
      }
    },
    {
      "cell_type": "code",
      "source": [
        "#create a tensor\n",
        "import torch\n",
        "x=torch.arange(1,10).reshape(1,3,3)\n",
        "x, x.shape"
      ],
      "metadata": {
        "colab": {
          "base_uri": "https://localhost:8080/"
        },
        "id": "0rdgAzv9j0iv",
        "outputId": "ece7cde9-686b-427a-8bf8-3cc7b293c554"
      },
      "execution_count": 162,
      "outputs": [
        {
          "output_type": "execute_result",
          "data": {
            "text/plain": [
              "(tensor([[[1, 2, 3],\n",
              "          [4, 5, 6],\n",
              "          [7, 8, 9]]]),\n",
              " torch.Size([1, 3, 3]))"
            ]
          },
          "metadata": {},
          "execution_count": 162
        }
      ]
    },
    {
      "cell_type": "code",
      "source": [
        "x[0]"
      ],
      "metadata": {
        "colab": {
          "base_uri": "https://localhost:8080/"
        },
        "id": "ymG8mArAu1np",
        "outputId": "cf30c89c-19bb-4a2d-ca0b-f365a30dbf9f"
      },
      "execution_count": 163,
      "outputs": [
        {
          "output_type": "execute_result",
          "data": {
            "text/plain": [
              "tensor([[1, 2, 3],\n",
              "        [4, 5, 6],\n",
              "        [7, 8, 9]])"
            ]
          },
          "metadata": {},
          "execution_count": 163
        }
      ]
    },
    {
      "cell_type": "code",
      "source": [
        "x[0][2][2]"
      ],
      "metadata": {
        "colab": {
          "base_uri": "https://localhost:8080/"
        },
        "id": "vH94HroevN4k",
        "outputId": "a2af6225-7cf9-4ce0-f78f-62ed4eb5ff80"
      },
      "execution_count": 164,
      "outputs": [
        {
          "output_type": "execute_result",
          "data": {
            "text/plain": [
              "tensor(9)"
            ]
          },
          "metadata": {},
          "execution_count": 164
        }
      ]
    },
    {
      "cell_type": "code",
      "source": [
        "# you can also use \":\" to select all of a target dimension\n",
        "x[:,0]"
      ],
      "metadata": {
        "colab": {
          "base_uri": "https://localhost:8080/"
        },
        "id": "r-TrttgLweWR",
        "outputId": "741db568-8540-4a5c-f91e-ab6acd67ceab"
      },
      "execution_count": 165,
      "outputs": [
        {
          "output_type": "execute_result",
          "data": {
            "text/plain": [
              "tensor([[1, 2, 3]])"
            ]
          },
          "metadata": {},
          "execution_count": 165
        }
      ]
    },
    {
      "cell_type": "code",
      "source": [
        "#Get all values of 0th and 1st dimension, but only index 1 of 2nd dimension\n",
        "x[0,0,1]"
      ],
      "metadata": {
        "colab": {
          "base_uri": "https://localhost:8080/"
        },
        "id": "f4AquYaCvcvf",
        "outputId": "cd622fb7-cd1d-441c-dee2-1966a6b8ea70"
      },
      "execution_count": 166,
      "outputs": [
        {
          "output_type": "execute_result",
          "data": {
            "text/plain": [
              "tensor(2)"
            ]
          },
          "metadata": {},
          "execution_count": 166
        }
      ]
    },
    {
      "cell_type": "markdown",
      "source": [
        "## PyTorch tensors & Numpy\n",
        "\n",
        "Data in Numpy, want in PyTorch -> `torch.from_numpy(ndarray)`\n",
        "\n",
        "Data in Pytorch, want in Numpy -> `torch.Tensor.numpy()`"
      ],
      "metadata": {
        "id": "jDMVovCuyEFE"
      }
    },
    {
      "cell_type": "code",
      "source": [
        "#NumPy array to tensor\n",
        "#Note: numpy default dtype is float64. Going from numpy to tensor will generate a tensor of float64 datatype\n",
        "import numpy as np\n",
        "array =np.arange(1.0, 8.0)\n",
        "tensor = torch.from_numpy(array)\n",
        "array, tensor"
      ],
      "metadata": {
        "colab": {
          "base_uri": "https://localhost:8080/"
        },
        "id": "2trHp7Oyx7AP",
        "outputId": "0e0c2b50-4fc8-4ecf-ddad-4b334dd0f443"
      },
      "execution_count": 167,
      "outputs": [
        {
          "output_type": "execute_result",
          "data": {
            "text/plain": [
              "(array([1., 2., 3., 4., 5., 6., 7.]),\n",
              " tensor([1., 2., 3., 4., 5., 6., 7.], dtype=torch.float64))"
            ]
          },
          "metadata": {},
          "execution_count": 167
        }
      ]
    },
    {
      "cell_type": "code",
      "source": [
        "#change the value of arrray, what will happen to the tensor?\n",
        "array=array+1\n",
        "array, tensor\n",
        "#they don't share memory"
      ],
      "metadata": {
        "colab": {
          "base_uri": "https://localhost:8080/"
        },
        "id": "FSnBUoeow4yx",
        "outputId": "363f6458-91be-4237-a326-a37d345d8b5e"
      },
      "execution_count": 168,
      "outputs": [
        {
          "output_type": "execute_result",
          "data": {
            "text/plain": [
              "(array([2., 3., 4., 5., 6., 7., 8.]),\n",
              " tensor([1., 2., 3., 4., 5., 6., 7.], dtype=torch.float64))"
            ]
          },
          "metadata": {},
          "execution_count": 168
        }
      ]
    },
    {
      "cell_type": "code",
      "source": [
        "#Tensor to numpy array\n",
        "#Note: tensor default dtype is float32. Going from tensor to numpy will generate a numpy of float32 datatype\n",
        "tensor=torch.ones(7)\n",
        "numpy_tensor = tensor.numpy()\n",
        "tensor, numpy_tensor"
      ],
      "metadata": {
        "colab": {
          "base_uri": "https://localhost:8080/"
        },
        "id": "7WfXTUM40FJ0",
        "outputId": "665c3ad3-e8f5-4ea6-b636-b3fe4e1ec80e"
      },
      "execution_count": 169,
      "outputs": [
        {
          "output_type": "execute_result",
          "data": {
            "text/plain": [
              "(tensor([1., 1., 1., 1., 1., 1., 1.]),\n",
              " array([1., 1., 1., 1., 1., 1., 1.], dtype=float32))"
            ]
          },
          "metadata": {},
          "execution_count": 169
        }
      ]
    },
    {
      "cell_type": "code",
      "source": [
        "#change the value of tensor, what will happen to the numpy array?\n",
        "tensor=tensor+1\n",
        "numpy_tensor, tensor\n",
        "# they don't share memory"
      ],
      "metadata": {
        "colab": {
          "base_uri": "https://localhost:8080/"
        },
        "id": "LFDCSIGz0eb8",
        "outputId": "36b1fe8d-e236-4039-8676-c3c7d036829d"
      },
      "execution_count": 170,
      "outputs": [
        {
          "output_type": "execute_result",
          "data": {
            "text/plain": [
              "(array([1., 1., 1., 1., 1., 1., 1.], dtype=float32),\n",
              " tensor([2., 2., 2., 2., 2., 2., 2.]))"
            ]
          },
          "metadata": {},
          "execution_count": 170
        }
      ]
    },
    {
      "cell_type": "markdown",
      "source": [
        "## Reproducibility (trying to take the random out of random)\n",
        "how a neural network learns:\n",
        "\n",
        "`start with random numbers -> tensor operations -> update random numbers to try and make them better representations of the data -> again -> again -> again...`\n",
        "\n",
        "To reduce the randomness in neural networks and PyTorch comes the concept of a **random seed**\n",
        "\n",
        "Essentially what the random seed does is \"flavour\" the randomness.\n",
        "\n",
        "study:\n",
        "* https://pytorch.org/docs/stable/notes/randomness.html\n",
        "* https://en.wikipedia.org/wiki/Random_seed"
      ],
      "metadata": {
        "id": "jdd20mZXvUkV"
      }
    },
    {
      "cell_type": "code",
      "source": [
        "#create two random tensors\n",
        "random_tensor_A=torch.rand(3,4)\n",
        "random_tensor_B=torch.rand(3,4)\n",
        "print(random_tensor_A)\n",
        "print(random_tensor_B)\n",
        "print(random_tensor_A==random_tensor_B)"
      ],
      "metadata": {
        "colab": {
          "base_uri": "https://localhost:8080/"
        },
        "id": "UQMd-gLtgyhQ",
        "outputId": "8e7c10e7-83b7-4c92-a828-b2e600fbc4e5"
      },
      "execution_count": 171,
      "outputs": [
        {
          "output_type": "stream",
          "name": "stdout",
          "text": [
            "tensor([[0.2269, 0.7437, 0.7004, 0.6083],\n",
            "        [0.6763, 0.4026, 0.6601, 0.4763],\n",
            "        [0.0764, 0.7852, 0.0210, 0.1746]])\n",
            "tensor([[0.5089, 0.5672, 0.7317, 0.2923],\n",
            "        [0.7382, 0.5246, 0.7388, 0.8466],\n",
            "        [0.3422, 0.1310, 0.9676, 0.9176]])\n",
            "tensor([[False, False, False, False],\n",
            "        [False, False, False, False],\n",
            "        [False, False, False, False]])\n"
          ]
        }
      ]
    },
    {
      "cell_type": "code",
      "source": [
        "#random but rproducible tensors\n",
        "#set the random seed\n",
        "random_seed =42\n",
        "torch.manual_seed(random_seed)\n",
        "\n",
        "random_tensor_C = torch.rand(3,4)\n",
        "torch.manual_seed(random_seed)\n",
        "random_tensor_D = torch.rand(3,4)\n",
        "print(random_tensor_C)\n",
        "print(random_tensor_D)\n",
        "print(random_tensor_C==random_tensor_D)\n",
        "\n",
        "\n"
      ],
      "metadata": {
        "colab": {
          "base_uri": "https://localhost:8080/"
        },
        "id": "rnqut8YmRCOh",
        "outputId": "d76622b0-b02c-45df-80fd-fd235660a03a"
      },
      "execution_count": 172,
      "outputs": [
        {
          "output_type": "stream",
          "name": "stdout",
          "text": [
            "tensor([[0.8823, 0.9150, 0.3829, 0.9593],\n",
            "        [0.3904, 0.6009, 0.2566, 0.7936],\n",
            "        [0.9408, 0.1332, 0.9346, 0.5936]])\n",
            "tensor([[0.8823, 0.9150, 0.3829, 0.9593],\n",
            "        [0.3904, 0.6009, 0.2566, 0.7936],\n",
            "        [0.9408, 0.1332, 0.9346, 0.5936]])\n",
            "tensor([[True, True, True, True],\n",
            "        [True, True, True, True],\n",
            "        [True, True, True, True]])\n"
          ]
        }
      ]
    },
    {
      "cell_type": "markdown",
      "source": [
        "## Running tensors adn Pytroch objects on GPU and making faster computations\n",
        "GPU== faster computations on numbers\n"
      ],
      "metadata": {
        "id": "6gG8JzAXRCSA"
      }
    },
    {
      "cell_type": "code",
      "source": [
        "### 1. Getting a GPU\n",
        "1. Easiest = Use Google Colab for a free GPU (options to upgrade as well)\n",
        "2. Use your own GPU - takes a little bit of setup and requires the investment of purchasing a GPU. options: https://timdettmers.com/2023/01/30/which-gpu-for-deep-learning/\n",
        "3. Use cloud computing - GCP, AWS, Azure, these services allow you to rent computers on the cloud and access them.\n",
        "\n",
        "for 2, 3 PyTorch + GPU drivers (CUDA) takes a little bit of setting up, to do this, refer to PyTorch setup documentation: https://pytorch.org/"
      ],
      "metadata": {
        "id": "DWz3Ann3671z",
        "colab": {
          "base_uri": "https://localhost:8080/",
          "height": 112
        },
        "outputId": "b9d49971-457c-4d30-ebad-fd3ef70e4f8b"
      },
      "execution_count": 173,
      "outputs": [
        {
          "output_type": "error",
          "ename": "SyntaxError",
          "evalue": "leading zeros in decimal integer literals are not permitted; use an 0o prefix for octal integers (ipython-input-1884354525.py, line 3)",
          "traceback": [
            "\u001b[0;36m  File \u001b[0;32m\"/tmp/ipython-input-1884354525.py\"\u001b[0;36m, line \u001b[0;32m3\u001b[0m\n\u001b[0;31m    2. Use your own GPU - takes a little bit of setup and requires the investment of purchasing a GPU. options: https://timdettmers.com/2023/01/30/which-gpu-for-deep-learning/\u001b[0m\n\u001b[0m                                                                                                                                             ^\u001b[0m\n\u001b[0;31mSyntaxError\u001b[0m\u001b[0;31m:\u001b[0m leading zeros in decimal integer literals are not permitted; use an 0o prefix for octal integers\n"
          ]
        }
      ]
    },
    {
      "cell_type": "code",
      "source": [
        "#check for GPU access with PyTorch\n",
        "torch.cuda.is_available()"
      ],
      "metadata": {
        "colab": {
          "base_uri": "https://localhost:8080/"
        },
        "id": "PoVdDuBg674s",
        "outputId": "430776e3-d3ed-4118-a3ee-7cefcb81421e"
      },
      "execution_count": 174,
      "outputs": [
        {
          "output_type": "execute_result",
          "data": {
            "text/plain": [
              "True"
            ]
          },
          "metadata": {},
          "execution_count": 174
        }
      ]
    },
    {
      "cell_type": "markdown",
      "source": [
        "For pytorch since it's capable of running compute on CPU and GPU, it's best practice to setup device agnostic code: https://pytorch.org/docs/stable/notes/cuda.html#best-practices\n",
        "\n",
        "e.g. run on GPU if available, else default to CPU"
      ],
      "metadata": {
        "id": "pnYz-mbP_8hA"
      }
    },
    {
      "cell_type": "code",
      "source": [
        "# setup device agnostic code\n",
        "device=\"cuda\" if torch.cuda.is_available() else \"cpu\"\n",
        "device"
      ],
      "metadata": {
        "colab": {
          "base_uri": "https://localhost:8080/",
          "height": 36
        },
        "id": "Pbv1zFoH-4CW",
        "outputId": "58180f8a-0b59-40e3-8c74-90658442ae0c"
      },
      "execution_count": 175,
      "outputs": [
        {
          "output_type": "execute_result",
          "data": {
            "text/plain": [
              "'cuda'"
            ],
            "application/vnd.google.colaboratory.intrinsic+json": {
              "type": "string"
            }
          },
          "metadata": {},
          "execution_count": 175
        }
      ]
    },
    {
      "cell_type": "code",
      "source": [
        "#count number of devices\n",
        "import torch\n",
        "torch.cuda.device_count()"
      ],
      "metadata": {
        "colab": {
          "base_uri": "https://localhost:8080/"
        },
        "id": "Ez4nLMWM677m",
        "outputId": "63e94ae5-578a-4f10-92a2-98dc13e18cb4"
      },
      "execution_count": 176,
      "outputs": [
        {
          "output_type": "execute_result",
          "data": {
            "text/plain": [
              "1"
            ]
          },
          "metadata": {},
          "execution_count": 176
        }
      ]
    },
    {
      "cell_type": "markdown",
      "source": [
        "## Putting tensors (and models) on GPU\n",
        "The reson we want our tensors/models on the GPU is because a GPU results in faster computations\n"
      ],
      "metadata": {
        "id": "NtGmzFx5_ZBt"
      }
    },
    {
      "cell_type": "code",
      "source": [
        "#Create a tensor( default on the CPU)\n",
        "tensor=torch.tensor([1,2,3])\n",
        "#tensor not on GPU\n",
        "print(tensor, tensor.device)"
      ],
      "metadata": {
        "colab": {
          "base_uri": "https://localhost:8080/"
        },
        "id": "R4iB4XEo6796",
        "outputId": "c9d4cc9c-9548-47c9-d31b-19a4e94450c6"
      },
      "execution_count": 177,
      "outputs": [
        {
          "output_type": "stream",
          "name": "stdout",
          "text": [
            "tensor([1, 2, 3]) cpu\n"
          ]
        }
      ]
    },
    {
      "cell_type": "code",
      "source": [
        "#Move tensor to GPU (if available)\n",
        "tensor_on_gpu = tensor.to(device)\n",
        "tensor_on_gpu"
      ],
      "metadata": {
        "colab": {
          "base_uri": "https://localhost:8080/"
        },
        "id": "YEtzzuip68Al",
        "outputId": "6d1b497c-2bdd-4ea5-ca17-b48a33718ed0"
      },
      "execution_count": 178,
      "outputs": [
        {
          "output_type": "execute_result",
          "data": {
            "text/plain": [
              "tensor([1, 2, 3], device='cuda:0')"
            ]
          },
          "metadata": {},
          "execution_count": 178
        }
      ]
    },
    {
      "cell_type": "markdown",
      "source": [
        "##Moving tensor back to the CPU"
      ],
      "metadata": {
        "id": "g3ptcqrj68DJ"
      }
    },
    {
      "cell_type": "code",
      "source": [
        "# if tensor is on GPU, you cant transfrom to Numpy\n",
        "tensor_on_gpu.numpy()"
      ],
      "metadata": {
        "colab": {
          "base_uri": "https://localhost:8080/",
          "height": 169
        },
        "id": "qTlyLGXY68Fy",
        "outputId": "a12a251e-2a84-42b3-ac38-b0188444e99f"
      },
      "execution_count": 179,
      "outputs": [
        {
          "output_type": "error",
          "ename": "TypeError",
          "evalue": "can't convert cuda:0 device type tensor to numpy. Use Tensor.cpu() to copy the tensor to host memory first.",
          "traceback": [
            "\u001b[0;31m---------------------------------------------------------------------------\u001b[0m",
            "\u001b[0;31mTypeError\u001b[0m                                 Traceback (most recent call last)",
            "\u001b[0;32m/tmp/ipython-input-1597182160.py\u001b[0m in \u001b[0;36m<cell line: 0>\u001b[0;34m()\u001b[0m\n\u001b[1;32m      1\u001b[0m \u001b[0;31m# if tensor is on GPU, you cant transfrom to Numpy\u001b[0m\u001b[0;34m\u001b[0m\u001b[0;34m\u001b[0m\u001b[0m\n\u001b[0;32m----> 2\u001b[0;31m \u001b[0mtensor_on_gpu\u001b[0m\u001b[0;34m.\u001b[0m\u001b[0mnumpy\u001b[0m\u001b[0;34m(\u001b[0m\u001b[0;34m)\u001b[0m\u001b[0;34m\u001b[0m\u001b[0;34m\u001b[0m\u001b[0m\n\u001b[0m",
            "\u001b[0;31mTypeError\u001b[0m: can't convert cuda:0 device type tensor to numpy. Use Tensor.cpu() to copy the tensor to host memory first."
          ]
        }
      ]
    },
    {
      "cell_type": "code",
      "source": [
        "#To fix the GPU tensor with numpy error, we cn first set it to CPU\n",
        "tensor_back_on_cpu = tensor_on_gpu.cpu().numpy()\n",
        "tensor_back_on_cpu"
      ],
      "metadata": {
        "colab": {
          "base_uri": "https://localhost:8080/"
        },
        "id": "1fTejSh_QvfU",
        "outputId": "a00d8f43-4d22-49e1-8243-70afff68cf5a"
      },
      "execution_count": 180,
      "outputs": [
        {
          "output_type": "execute_result",
          "data": {
            "text/plain": [
              "array([1, 2, 3])"
            ]
          },
          "metadata": {},
          "execution_count": 180
        }
      ]
    },
    {
      "cell_type": "markdown",
      "source": [
        "##Practice Exercises"
      ],
      "metadata": {
        "id": "H0yyixeIQuUU"
      }
    },
    {
      "cell_type": "markdown",
      "source": [
        "Create a random tensor with shape (7, 7)."
      ],
      "metadata": {
        "id": "S8GzDneW68Ie"
      }
    },
    {
      "cell_type": "code",
      "source": [
        "#import torch\n",
        "import torch\n",
        "\n",
        "#create random tensor\n",
        "random_tensor=torch.rand(size=(7,7))\n",
        "random_tensor, random_tensor.shape"
      ],
      "metadata": {
        "id": "Taoa5tAm68Kz",
        "colab": {
          "base_uri": "https://localhost:8080/"
        },
        "outputId": "6c3b48a1-4b9e-41d4-c52b-4a272c5c9ca9"
      },
      "execution_count": 181,
      "outputs": [
        {
          "output_type": "execute_result",
          "data": {
            "text/plain": [
              "(tensor([[0.8694, 0.5677, 0.7411, 0.4294, 0.8854, 0.5739, 0.2666],\n",
              "         [0.6274, 0.2696, 0.4414, 0.2969, 0.8317, 0.1053, 0.2695],\n",
              "         [0.3588, 0.1994, 0.5472, 0.0062, 0.9516, 0.0753, 0.8860],\n",
              "         [0.5832, 0.3376, 0.8090, 0.5779, 0.9040, 0.5547, 0.3423],\n",
              "         [0.6343, 0.3644, 0.7104, 0.9464, 0.7890, 0.2814, 0.7886],\n",
              "         [0.5895, 0.7539, 0.1952, 0.0050, 0.3068, 0.1165, 0.9103],\n",
              "         [0.6440, 0.7071, 0.6581, 0.4913, 0.8913, 0.1447, 0.5315]]),\n",
              " torch.Size([7, 7]))"
            ]
          },
          "metadata": {},
          "execution_count": 181
        }
      ]
    },
    {
      "cell_type": "markdown",
      "source": [
        "Perform a matrix multiplication on the tensor from 2 with another random tensor with shape (1, 7)"
      ],
      "metadata": {
        "id": "cZr8MUV7tL1_"
      }
    },
    {
      "cell_type": "code",
      "source": [
        "# Create another random tensor\n",
        "random_tensor_B = torch.rand(size=(1,7))\n",
        "\n",
        "# Perform matrix multiplication\n",
        "tensor_multiplication =torch.matmul(random_tensor, random_tensor_B.T)\n",
        "tensor_multiplication"
      ],
      "metadata": {
        "id": "YySkWYXE68Nf",
        "colab": {
          "base_uri": "https://localhost:8080/"
        },
        "outputId": "e5b33dfd-9486-400f-a519-2db89e25b8b7"
      },
      "execution_count": 182,
      "outputs": [
        {
          "output_type": "execute_result",
          "data": {
            "text/plain": [
              "tensor([[1.9625],\n",
              "        [1.0950],\n",
              "        [0.9967],\n",
              "        [1.8910],\n",
              "        [1.9205],\n",
              "        [1.0674],\n",
              "        [1.6949]])"
            ]
          },
          "metadata": {},
          "execution_count": 182
        }
      ]
    },
    {
      "cell_type": "markdown",
      "source": [
        "Set the random seed to 0 and do the above over again."
      ],
      "metadata": {
        "id": "KWU77sUGuSa0"
      }
    },
    {
      "cell_type": "code",
      "source": [
        "#set random seed\n",
        "random_seed = 0\n",
        "torch_manual_seed=torch.manual_seed(random_seed)\n",
        "\n",
        "#create two random tensors\n",
        "random_tensor=torch.rand(size=(7,7))\n",
        "random_tensor_B = torch.rand(size=(1,7))\n",
        "\n",
        "#multiply random tensors\n",
        "tensor_multiplication =torch.matmul(random_tensor, random_tensor_B.T)\n",
        "tensor_multiplication"
      ],
      "metadata": {
        "colab": {
          "base_uri": "https://localhost:8080/"
        },
        "id": "hbmElPeTuSp1",
        "outputId": "b1ec3857-a561-4f78-8373-30a4892a1b9e"
      },
      "execution_count": 183,
      "outputs": [
        {
          "output_type": "execute_result",
          "data": {
            "text/plain": [
              "tensor([[1.8542],\n",
              "        [1.9611],\n",
              "        [2.2884],\n",
              "        [3.0481],\n",
              "        [1.7067],\n",
              "        [2.5290],\n",
              "        [1.7989]])"
            ]
          },
          "metadata": {},
          "execution_count": 183
        }
      ]
    },
    {
      "cell_type": "markdown",
      "source": [
        "Speaking of random seeds, we saw how to set it with torch.manual_seed() but is there a GPU equivalent?\n",
        "\n",
        "If there is, set the GPU random seed to 1234."
      ],
      "metadata": {
        "id": "QcmFI54JuStK"
      }
    },
    {
      "cell_type": "code",
      "source": [
        "# Set random seed on the GPU\n",
        "GPU_seed = 1234\n",
        "torch.cuda.manual_seed(seed=GPU_seed)"
      ],
      "metadata": {
        "id": "27ohmF0zuSyY"
      },
      "execution_count": 184,
      "outputs": []
    },
    {
      "cell_type": "markdown",
      "source": [
        "Create two random tensors of shape (2, 3) and send them both to the GPU. Set torch.manual_seed(1234) when creating the tensors."
      ],
      "metadata": {
        "id": "_GZ6RWtXuS3W"
      }
    },
    {
      "cell_type": "code",
      "source": [
        "# Check for access to GPU\n",
        "torch.cuda.is_available()\n"
      ],
      "metadata": {
        "colab": {
          "base_uri": "https://localhost:8080/"
        },
        "id": "TDOVSIjFwYAG",
        "outputId": "419287cb-3570-40ef-8bc0-ecda9b6af3a4"
      },
      "execution_count": 185,
      "outputs": [
        {
          "output_type": "execute_result",
          "data": {
            "text/plain": [
              "True"
            ]
          },
          "metadata": {},
          "execution_count": 185
        }
      ]
    },
    {
      "cell_type": "code",
      "source": [
        "# Set device type\n",
        "device = \"cuda\" if torch.cuda.is_available() else \"cpu\"\n",
        "device"
      ],
      "metadata": {
        "colab": {
          "base_uri": "https://localhost:8080/",
          "height": 36
        },
        "id": "RL5Pr_I2yWmi",
        "outputId": "28ad262e-ac9f-4fef-895f-8b44dbd4df4f"
      },
      "execution_count": 186,
      "outputs": [
        {
          "output_type": "execute_result",
          "data": {
            "text/plain": [
              "'cuda'"
            ],
            "application/vnd.google.colaboratory.intrinsic+json": {
              "type": "string"
            }
          },
          "metadata": {},
          "execution_count": 186
        }
      ]
    },
    {
      "cell_type": "code",
      "source": [
        "#set random seed\n",
        "random_seed = 1234\n",
        "torch_manual_seed=torch.manual_seed(random_seed)\n",
        "#Create two random tensors on GPU\n",
        "random_tensor_x=torch.rand(size=(2,3)).to(device)\n",
        "random_tensor_y=torch.rand(size=(2,3)).to(device)\n",
        "random_tensor_x, random_tensor_y"
      ],
      "metadata": {
        "colab": {
          "base_uri": "https://localhost:8080/"
        },
        "id": "9UyWElP2wYCo",
        "outputId": "84dc40c9-9b95-4d05-ff85-7c40a93cb4b6"
      },
      "execution_count": 187,
      "outputs": [
        {
          "output_type": "execute_result",
          "data": {
            "text/plain": [
              "(tensor([[0.0290, 0.4019, 0.2598],\n",
              "         [0.3666, 0.0583, 0.7006]], device='cuda:0'),\n",
              " tensor([[0.0518, 0.4681, 0.6738],\n",
              "         [0.3315, 0.7837, 0.5631]], device='cuda:0'))"
            ]
          },
          "metadata": {},
          "execution_count": 187
        }
      ]
    },
    {
      "cell_type": "markdown",
      "source": [
        "Perform a matrix multiplication on the tensors you created above"
      ],
      "metadata": {
        "id": "hEvkSQwZwYFG"
      }
    },
    {
      "cell_type": "code",
      "source": [
        "# Perform matmul on tensor_A and tensor_B\n",
        "tensor_on_gpu_multiplication = torch.matmul(random_tensor_x, random_tensor_y.T)\n",
        "tensor_on_gpu_multiplication, tensor_on_gpu_multiplication.shape"
      ],
      "metadata": {
        "colab": {
          "base_uri": "https://localhost:8080/"
        },
        "id": "sddLbbLAwYHh",
        "outputId": "0267bdba-8ead-4c32-df47-ccfbb505e795"
      },
      "execution_count": 188,
      "outputs": [
        {
          "output_type": "execute_result",
          "data": {
            "text/plain": [
              "(tensor([[0.3647, 0.4709],\n",
              "         [0.5184, 0.5617]], device='cuda:0'),\n",
              " torch.Size([2, 2]))"
            ]
          },
          "metadata": {},
          "execution_count": 188
        }
      ]
    },
    {
      "cell_type": "markdown",
      "source": [
        " Find the maximum and minimum values of the output"
      ],
      "metadata": {
        "id": "6o8t3924wYLq"
      }
    },
    {
      "cell_type": "code",
      "source": [
        "#Maximum\n",
        "print(f'Maximum: {torch.max(tensor_on_gpu_multiplication)}')\n",
        "#Minimum\n",
        "print(f'Minimum {torch.min(tensor_on_gpu_multiplication)}')"
      ],
      "metadata": {
        "colab": {
          "base_uri": "https://localhost:8080/"
        },
        "id": "_MsI9Q7cwYOf",
        "outputId": "f41947ee-a6d6-452b-df41-ad383fd28c0b"
      },
      "execution_count": 189,
      "outputs": [
        {
          "output_type": "stream",
          "name": "stdout",
          "text": [
            "Maximum: 0.5617256760597229\n",
            "Minimum 0.3647301495075226\n"
          ]
        }
      ]
    },
    {
      "cell_type": "markdown",
      "source": [
        "Find the maximum and minimum index values of the output"
      ],
      "metadata": {
        "id": "ztgNYk-OwYQr"
      }
    },
    {
      "cell_type": "code",
      "source": [
        "#Maximum Index\n",
        "print(f'Index where maximum value occurs: {torch.argmax(tensor_on_gpu_multiplication)}')\n",
        "#Minimum Index\n",
        "print(f'Index where minimum value occurs: {torch.argmin(tensor_on_gpu_multiplication)}')"
      ],
      "metadata": {
        "colab": {
          "base_uri": "https://localhost:8080/"
        },
        "id": "qDjnG65awYUJ",
        "outputId": "dc233029-fe0b-4094-eae3-96ec84f5e47e"
      },
      "execution_count": 190,
      "outputs": [
        {
          "output_type": "stream",
          "name": "stdout",
          "text": [
            "Index where maximum value occurs: 3\n",
            "Index where minimum value occurs: 0\n"
          ]
        }
      ]
    },
    {
      "cell_type": "markdown",
      "source": [
        "Make a random tensor with shape (1, 1, 1, 10) and then create a new tensor with all the 1 dimensions removed to be left with a tensor of shape (10). Set the seed to 7 when you create it and print out the first tensor and it's shape as well as the second tensor and it's shape."
      ],
      "metadata": {
        "id": "8s59HTTm1vlT"
      }
    },
    {
      "cell_type": "code",
      "source": [
        "#set random seed\n",
        "random_seed = 7\n",
        "torch_manual_seed=torch.manual_seed(random_seed)\n",
        "#create random tensor\n",
        "random_tensor=torch.rand(size=(1,1,1,10))\n",
        "\n",
        "# Remove single dimensions\n",
        "random_tensor_squeezed=random_tensor.squeeze()\n",
        "\n",
        "# Print out tensors and their shapes\n",
        "print(f'Original tensor: {random_tensor}')\n",
        "print(f'Squeezed_tensor: {random_tensor_squeezed}')\n",
        "print(f'\\nOriginal tensor shape: {random_tensor.shape}')\n",
        "print(f'Squeezed tensor shape: {random_tensor_squeezed.shape}')"
      ],
      "metadata": {
        "colab": {
          "base_uri": "https://localhost:8080/"
        },
        "id": "SqStbMuZ1vo2",
        "outputId": "49b3a85e-8671-4cb1-d4a3-080e6ecd431a"
      },
      "execution_count": 191,
      "outputs": [
        {
          "output_type": "stream",
          "name": "stdout",
          "text": [
            "Original tensor: tensor([[[[0.5349, 0.1988, 0.6592, 0.6569, 0.2328, 0.4251, 0.2071, 0.6297,\n",
            "           0.3653, 0.8513]]]])\n",
            "Squeezed_tensor: tensor([0.5349, 0.1988, 0.6592, 0.6569, 0.2328, 0.4251, 0.2071, 0.6297, 0.3653,\n",
            "        0.8513])\n",
            "\n",
            "Original tensor shape: torch.Size([1, 1, 1, 10])\n",
            "Squeezed tensor shape: torch.Size([10])\n"
          ]
        }
      ]
    }
  ]
}